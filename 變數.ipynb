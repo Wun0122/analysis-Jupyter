{
 "cells": [
  {
   "cell_type": "markdown",
   "id": "ec6a6b99",
   "metadata": {},
   "source": [
    "## 數字變數"
   ]
  },
  {
   "cell_type": "code",
   "execution_count": 1,
   "id": "0547277d",
   "metadata": {},
   "outputs": [],
   "source": [
    "a = 3"
   ]
  },
  {
   "cell_type": "code",
   "execution_count": 2,
   "id": "6c996476",
   "metadata": {},
   "outputs": [
    {
     "data": {
      "text/plain": [
       "10"
      ]
     },
     "execution_count": 2,
     "metadata": {},
     "output_type": "execute_result"
    }
   ],
   "source": [
    "a + 7"
   ]
  },
  {
   "cell_type": "code",
   "execution_count": 3,
   "id": "c62e308f",
   "metadata": {},
   "outputs": [],
   "source": [
    "a = 87"
   ]
  },
  {
   "cell_type": "code",
   "execution_count": 4,
   "id": "75f52555",
   "metadata": {},
   "outputs": [
    {
     "data": {
      "text/plain": [
       "87"
      ]
     },
     "execution_count": 4,
     "metadata": {},
     "output_type": "execute_result"
    }
   ],
   "source": [
    "a "
   ]
  },
  {
   "cell_type": "code",
   "execution_count": 5,
   "id": "4ae5ffab",
   "metadata": {},
   "outputs": [
    {
     "data": {
      "text/plain": [
       "7569"
      ]
     },
     "execution_count": 5,
     "metadata": {},
     "output_type": "execute_result"
    }
   ],
   "source": [
    "a**2"
   ]
  },
  {
   "cell_type": "code",
   "execution_count": 6,
   "id": "77860649",
   "metadata": {},
   "outputs": [],
   "source": [
    "total = 128 + 65 + 77"
   ]
  },
  {
   "cell_type": "code",
   "execution_count": 7,
   "id": "af7b6767",
   "metadata": {},
   "outputs": [
    {
     "data": {
      "text/plain": [
       "270"
      ]
     },
     "execution_count": 7,
     "metadata": {},
     "output_type": "execute_result"
    }
   ],
   "source": [
    "total"
   ]
  },
  {
   "cell_type": "code",
   "execution_count": 8,
   "id": "66ade717",
   "metadata": {},
   "outputs": [
    {
     "data": {
      "text/plain": [
       "8235.0"
      ]
     },
     "execution_count": 8,
     "metadata": {},
     "output_type": "execute_result"
    }
   ],
   "source": [
    "total * 30.5"
   ]
  },
  {
   "cell_type": "markdown",
   "id": "be9ee781",
   "metadata": {},
   "source": [
    "## 變數名稱可以用中文"
   ]
  },
  {
   "cell_type": "code",
   "execution_count": 11,
   "id": "c641292e",
   "metadata": {},
   "outputs": [],
   "source": [
    "底 = 3\n",
    "高 = 5"
   ]
  },
  {
   "cell_type": "code",
   "execution_count": 13,
   "id": "80bc2af3",
   "metadata": {},
   "outputs": [
    {
     "data": {
      "text/plain": [
       "15"
      ]
     },
     "execution_count": 13,
     "metadata": {},
     "output_type": "execute_result"
    }
   ],
   "source": [
    "底*高 "
   ]
  },
  {
   "cell_type": "code",
   "execution_count": null,
   "id": "b0bfc82b",
   "metadata": {},
   "outputs": [],
   "source": []
  }
 ],
 "metadata": {
  "kernelspec": {
   "display_name": "Python 3 (ipykernel)",
   "language": "python",
   "name": "python3"
  },
  "language_info": {
   "codemirror_mode": {
    "name": "ipython",
    "version": 3
   },
   "file_extension": ".py",
   "mimetype": "text/x-python",
   "name": "python",
   "nbconvert_exporter": "python",
   "pygments_lexer": "ipython3",
   "version": "3.9.7"
  }
 },
 "nbformat": 4,
 "nbformat_minor": 5
}
