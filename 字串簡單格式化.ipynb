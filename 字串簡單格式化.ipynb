{
 "cells": [
  {
   "cell_type": "markdown",
   "id": "a4db8a7a",
   "metadata": {},
   "source": [
    "## 字串格式化"
   ]
  },
  {
   "cell_type": "code",
   "execution_count": 1,
   "id": "524944c9",
   "metadata": {},
   "outputs": [],
   "source": [
    "name = \"炎龍\"\n",
    "place = \"台北\""
   ]
  },
  {
   "cell_type": "code",
   "execution_count": 2,
   "id": "03b69300",
   "metadata": {},
   "outputs": [],
   "source": [
    "message = \"你好, 來自\" + place + \"的\" + name + \"!\""
   ]
  },
  {
   "cell_type": "code",
   "execution_count": 3,
   "id": "aade39ae",
   "metadata": {},
   "outputs": [
    {
     "name": "stdout",
     "output_type": "stream",
     "text": [
      "你好, 來自台北的炎龍!\n"
     ]
    }
   ],
   "source": [
    "print(message)"
   ]
  },
  {
   "cell_type": "code",
   "execution_count": 4,
   "id": "535be348",
   "metadata": {},
   "outputs": [],
   "source": [
    "message = \"妳好, 來自{}的{}!\".format(place, name)"
   ]
  },
  {
   "cell_type": "code",
   "execution_count": 5,
   "id": "256e681f",
   "metadata": {},
   "outputs": [
    {
     "name": "stdout",
     "output_type": "stream",
     "text": [
      "妳好, 來自台北的炎龍!\n"
     ]
    }
   ],
   "source": [
    "print(message)"
   ]
  },
  {
   "cell_type": "markdown",
   "id": "f4948b6a",
   "metadata": {},
   "source": [
    "## 資料型態"
   ]
  },
  {
   "cell_type": "code",
   "execution_count": 6,
   "id": "59102e3b",
   "metadata": {},
   "outputs": [
    {
     "name": "stdout",
     "output_type": "stream",
     "text": [
      "270合台幣8235.0元\n"
     ]
    }
   ],
   "source": [
    "m = 270\n",
    "print(str(m) + \"合台幣\" + str(m*30.5) + \"元\")"
   ]
  },
  {
   "cell_type": "code",
   "execution_count": 8,
   "id": "ecc79ad1",
   "metadata": {},
   "outputs": [
    {
     "name": "stdout",
     "output_type": "stream",
     "text": [
      "270合台幣8235.0元\n"
     ]
    }
   ],
   "source": [
    "print(\"{}合台幣{}元\".format(m, m*30.5))"
   ]
  },
  {
   "cell_type": "code",
   "execution_count": null,
   "id": "64ac0cfa",
   "metadata": {},
   "outputs": [],
   "source": []
  }
 ],
 "metadata": {
  "kernelspec": {
   "display_name": "Python 3 (ipykernel)",
   "language": "python",
   "name": "python3"
  },
  "language_info": {
   "codemirror_mode": {
    "name": "ipython",
    "version": 3
   },
   "file_extension": ".py",
   "mimetype": "text/x-python",
   "name": "python",
   "nbconvert_exporter": "python",
   "pygments_lexer": "ipython3",
   "version": "3.9.7"
  }
 },
 "nbformat": 4,
 "nbformat_minor": 5
}
