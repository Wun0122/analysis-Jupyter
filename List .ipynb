{
 "cells": [
  {
   "cell_type": "code",
   "execution_count": 6,
   "id": "bdd8bd0a",
   "metadata": {},
   "outputs": [
    {
     "name": "stdout",
     "output_type": "stream",
     "text": [
      "Populating the interactive namespace from numpy and matplotlib\n"
     ]
    }
   ],
   "source": [
    "%pylab inline"
   ]
  },
  {
   "cell_type": "markdown",
   "id": "881202e5",
   "metadata": {},
   "source": [
    "## 定義串列list"
   ]
  },
  {
   "cell_type": "code",
   "execution_count": 7,
   "id": "faae43df",
   "metadata": {},
   "outputs": [],
   "source": [
    "L = [3, 9, 10, 2, 5]"
   ]
  },
  {
   "cell_type": "code",
   "execution_count": 8,
   "id": "714926b4",
   "metadata": {},
   "outputs": [
    {
     "data": {
      "text/plain": [
       "[<matplotlib.lines.Line2D at 0x7fe191c9ad60>]"
      ]
     },
     "execution_count": 8,
     "metadata": {},
     "output_type": "execute_result"
    },
    {
     "data": {
      "image/png": "[encoded data removed]",
      "text/plain": [
       "<Figure size 432x288 with 1 Axes>"
      ]
     },
     "metadata": {
      "needs_background": "light"
     },
     "output_type": "display_data"
    }
   ],
   "source": [
    "plot(L)"
   ]
  },
  {
   "cell_type": "markdown",
   "id": "14ed2019",
   "metadata": {},
   "source": [
    "## list可以加減乘除嗎？"
   ]
  },
  {
   "cell_type": "code",
   "execution_count": 9,
   "id": "7a9ebcf7",
   "metadata": {},
   "outputs": [],
   "source": [
    "L = [3, 87, 5, 9]\n",
    "G = [1, 2, 8, 10]"
   ]
  },
  {
   "cell_type": "code",
   "execution_count": 10,
   "id": "449807cd",
   "metadata": {},
   "outputs": [
    {
     "data": {
      "text/plain": [
       "[3, 87, 5, 9, 1, 2, 8, 10]"
      ]
     },
     "execution_count": 10,
     "metadata": {},
     "output_type": "execute_result"
    }
   ],
   "source": [
    "L + G"
   ]
  },
  {
   "cell_type": "code",
   "execution_count": 11,
   "id": "a26be9a1",
   "metadata": {},
   "outputs": [
    {
     "ename": "TypeError",
     "evalue": "can't multiply sequence by non-int of type 'list'",
     "output_type": "error",
     "traceback": [
      "\u001b[0;31m---------------------------------------------------------------------------\u001b[0m",
      "\u001b[0;31mTypeError\u001b[0m                                 Traceback (most recent call last)",
      "\u001b[0;32m/var/folders/78/jfwjky417dj4ly6fk3n8r8tw0000gn/T/ipykernel_98976/751839417.py\u001b[0m in \u001b[0;36m<module>\u001b[0;34m\u001b[0m\n\u001b[0;32m----> 1\u001b[0;31m \u001b[0mL\u001b[0m\u001b[0;34m*\u001b[0m\u001b[0mG\u001b[0m\u001b[0;34m\u001b[0m\u001b[0;34m\u001b[0m\u001b[0m\n\u001b[0m",
      "\u001b[0;31mTypeError\u001b[0m: can't multiply sequence by non-int of type 'list'"
     ]
    }
   ],
   "source": [
    "L*G"
   ]
  },
  {
   "cell_type": "markdown",
   "id": "fe3e5503",
   "metadata": {},
   "source": [
    "## 純量乘法"
   ]
  },
  {
   "cell_type": "code",
   "execution_count": null,
   "id": "28290d4b",
   "metadata": {},
   "outputs": [],
   "source": [
    "L"
   ]
  },
  {
   "cell_type": "code",
   "execution_count": null,
   "id": "96eb5da3",
   "metadata": {},
   "outputs": [],
   "source": [
    "3*L"
   ]
  },
  {
   "cell_type": "code",
   "execution_count": null,
   "id": "63fe10e9",
   "metadata": {},
   "outputs": [],
   "source": []
  }
 ],
 "metadata": {
  "kernelspec": {
   "display_name": "Python 3 (ipykernel)",
   "language": "python",
   "name": "python3"
  },
  "language_info": {
   "codemirror_mode": {
    "name": "ipython",
    "version": 3
   },
   "file_extension": ".py",
   "mimetype": "text/x-python",
   "name": "python",
   "nbconvert_exporter": "python",
   "pygments_lexer": "ipython3",
   "version": "3.9.7"
  }
 },
 "nbformat": 4,
 "nbformat_minor": 5
}
