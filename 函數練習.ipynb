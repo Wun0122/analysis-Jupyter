{
 "cells": [
  {
   "cell_type": "markdown",
   "id": "a638f20f",
   "metadata": {},
   "source": [
    "#### name = \"炎龍\"\n",
    "place = \"台北\""
   ]
  },
  {
   "cell_type": "code",
   "execution_count": 2,
   "id": "18becef1",
   "metadata": {},
   "outputs": [],
   "source": [
    "message = \"你好, 來自{}的{}!\".format(place, name)"
   ]
  },
  {
   "cell_type": "code",
   "execution_count": 3,
   "id": "82e32089",
   "metadata": {},
   "outputs": [
    {
     "data": {
      "text/plain": [
       "'你好, 來自台北的炎龍!'"
      ]
     },
     "execution_count": 3,
     "metadata": {},
     "output_type": "execute_result"
    }
   ],
   "source": [
    "message"
   ]
  },
  {
   "cell_type": "code",
   "execution_count": 7,
   "id": "df5252b6",
   "metadata": {},
   "outputs": [],
   "source": [
    "def say_hi(name, place):\n",
    "    message = \"你好, 來自{}的{}!\".format(place, name)\n",
    "    return message"
   ]
  },
  {
   "cell_type": "code",
   "execution_count": 8,
   "id": "aeffc37c",
   "metadata": {},
   "outputs": [
    {
     "data": {
      "text/plain": [
       "'你好, 來自羅東的依宸!'"
      ]
     },
     "execution_count": 8,
     "metadata": {},
     "output_type": "execute_result"
    }
   ],
   "source": [
    "say_hi(\"依宸\", \"羅東\")"
   ]
  },
  {
   "cell_type": "code",
   "execution_count": 9,
   "id": "9ecc8760",
   "metadata": {},
   "outputs": [
    {
     "data": {
      "text/plain": [
       "'你好, 來自台北的奇珍!'"
      ]
     },
     "execution_count": 9,
     "metadata": {},
     "output_type": "execute_result"
    }
   ],
   "source": [
    "say_hi(\"奇珍\", \"台北\")"
   ]
  },
  {
   "cell_type": "code",
   "execution_count": null,
   "id": "a9025805",
   "metadata": {},
   "outputs": [],
   "source": []
  }
 ],
 "metadata": {
  "kernelspec": {
   "display_name": "Python 3 (ipykernel)",
   "language": "python",
   "name": "python3"
  },
  "language_info": {
   "codemirror_mode": {
    "name": "ipython",
    "version": 3
   },
   "file_extension": ".py",
   "mimetype": "text/x-python",
   "name": "python",
   "nbconvert_exporter": "python",
   "pygments_lexer": "ipython3",
   "version": "3.9.7"
  }
 },
 "nbformat": 4,
 "nbformat_minor": 5
}
