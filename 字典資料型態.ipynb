{
 "cells": [
  {
   "cell_type": "code",
   "execution_count": 1,
   "id": "ac83eff8",
   "metadata": {},
   "outputs": [],
   "source": [
    "%matplotlib inline\n",
    "import numpy as np\n",
    "import matplotlib.pyplot as plt"
   ]
  },
  {
   "cell_type": "code",
   "execution_count": 1,
   "id": "a8233d41",
   "metadata": {},
   "outputs": [],
   "source": [
    "mydict = { 87 : '蘋果', 'banana' : '香蕉'}"
   ]
  },
  {
   "cell_type": "code",
   "execution_count": 2,
   "id": "a6012270",
   "metadata": {},
   "outputs": [
    {
     "data": {
      "text/plain": [
       "{87: '蘋果', 'banana': '香蕉'}"
      ]
     },
     "execution_count": 2,
     "metadata": {},
     "output_type": "execute_result"
    }
   ],
   "source": [
    "mydict"
   ]
  },
  {
   "cell_type": "code",
   "execution_count": 3,
   "id": "25623ebc",
   "metadata": {},
   "outputs": [
    {
     "data": {
      "text/plain": [
       "'蘋果'"
      ]
     },
     "execution_count": 3,
     "metadata": {},
     "output_type": "execute_result"
    }
   ],
   "source": [
    "mydict[87]"
   ]
  },
  {
   "cell_type": "code",
   "execution_count": 5,
   "id": "325f9511",
   "metadata": {},
   "outputs": [],
   "source": [
    "mydict['orange'] = '柳橙'"
   ]
  },
  {
   "cell_type": "code",
   "execution_count": 6,
   "id": "ab69428e",
   "metadata": {},
   "outputs": [
    {
     "data": {
      "text/plain": [
       "{'apple': '蘋果', 'banana': '香蕉', 'orange': '柳橙'}"
      ]
     },
     "execution_count": 6,
     "metadata": {},
     "output_type": "execute_result"
    }
   ],
   "source": [
    "mydict"
   ]
  },
  {
   "cell_type": "code",
   "execution_count": 8,
   "id": "324f004b",
   "metadata": {},
   "outputs": [
    {
     "name": "stdout",
     "output_type": "stream",
     "text": [
      "apple:蘋果\n",
      "banana:香蕉\n",
      "orange:柳橙\n"
     ]
    }
   ],
   "source": [
    "for key in mydict:\n",
    "    print(\"{}:{}\".format(key, mydict[key]))"
   ]
  },
  {
   "cell_type": "code",
   "execution_count": 2,
   "id": "3e373719",
   "metadata": {},
   "outputs": [],
   "source": [
    "北七=[9,4,8,7]\n",
    "\n",
    "empty = []\n",
    "\n",
    "for i in enumerate(北七):\n",
    "\n",
    "    empty.append(i)\n",
    "\n"
   ]
  },
  {
   "cell_type": "code",
   "execution_count": 3,
   "id": "d094805d",
   "metadata": {},
   "outputs": [
    {
     "data": {
      "text/plain": [
       "[(0, 9), (1, 4), (2, 8), (3, 7)]"
      ]
     },
     "execution_count": 3,
     "metadata": {},
     "output_type": "execute_result"
    }
   ],
   "source": [
    "empty"
   ]
  },
  {
   "cell_type": "code",
   "execution_count": 4,
   "id": "90128d36",
   "metadata": {},
   "outputs": [],
   "source": [
    "八七字典 = {'就是':94, '北七':87}"
   ]
  },
  {
   "cell_type": "code",
   "execution_count": 6,
   "id": "30c62ec6",
   "metadata": {},
   "outputs": [
    {
     "data": {
      "text/plain": [
       "9487"
      ]
     },
     "execution_count": 6,
     "metadata": {},
     "output_type": "execute_result"
    }
   ],
   "source": [
    "八七字典['就是']*100+八七字典['北七']\n"
   ]
  },
  {
   "cell_type": "code",
   "execution_count": null,
   "id": "762417de",
   "metadata": {},
   "outputs": [],
   "source": []
  }
 ],
 "metadata": {
  "kernelspec": {
   "display_name": "Python 3 (ipykernel)",
   "language": "python",
   "name": "python3"
  },
  "language_info": {
   "codemirror_mode": {
    "name": "ipython",
    "version": 3
   },
   "file_extension": ".py",
   "mimetype": "text/x-python",
   "name": "python",
   "nbconvert_exporter": "python",
   "pygments_lexer": "ipython3",
   "version": "3.9.7"
  }
 },
 "nbformat": 4,
 "nbformat_minor": 5
}
