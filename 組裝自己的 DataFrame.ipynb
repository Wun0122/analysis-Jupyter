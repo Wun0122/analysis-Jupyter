{
 "cells": [
  {
   "cell_type": "code",
   "execution_count": 1,
   "id": "544bd92a",
   "metadata": {},
   "outputs": [],
   "source": [
    "%matplotlib inline\n",
    "\n",
    "import numpy as np\n",
    "import matplotlib.pyplot as plt\n",
    "import pandas as pd"
   ]
  },
  {
   "cell_type": "markdown",
   "id": "9300fdd7",
   "metadata": {},
   "source": [
    "## 自訂dataframe\n",
    "\n",
    "新dataframe = pd.DataFrame(array,column=項目list)\n",
    "\n",
    "## 合併dataframe\n",
    "\n",
    "新dataframe = pd.concat(dataframe的list,axis=0)\n",
    " \n",
    " *axis控制合併的方向,0是上下(列),1是左右(行)\n",
    "    \n",
    "## 更改dataframe的index\n",
    "dataframe名稱.index = 要給的list"
   ]
  },
  {
   "cell_type": "code",
   "execution_count": 2,
   "id": "86e38952",
   "metadata": {},
   "outputs": [],
   "source": [
    "mydata = np.random.randn(4,3)"
   ]
  },
  {
   "cell_type": "code",
   "execution_count": 3,
   "id": "0d2e08d8",
   "metadata": {},
   "outputs": [
    {
     "data": {
      "text/plain": [
       "array([[-1.1058071 ,  0.04596444, -1.06398464],\n",
       "       [ 0.15443738,  1.09665461, -0.04892133],\n",
       "       [-0.2213808 ,  0.96809415,  0.89472568],\n",
       "       [-0.88948878,  0.09923193, -0.1271696 ]])"
      ]
     },
     "execution_count": 3,
     "metadata": {},
     "output_type": "execute_result"
    }
   ],
   "source": [
    "mydata"
   ]
  },
  {
   "cell_type": "code",
   "execution_count": 4,
   "id": "a48d2288",
   "metadata": {},
   "outputs": [
    {
     "data": {
      "text/plain": [
       "['A', 'B', 'C', 'D', 'E']"
      ]
     },
     "execution_count": 4,
     "metadata": {},
     "output_type": "execute_result"
    }
   ],
   "source": [
    "list(\"ABCDE\")"
   ]
  },
  {
   "cell_type": "code",
   "execution_count": 5,
   "id": "d0b51829",
   "metadata": {},
   "outputs": [
    {
     "data": {
      "text/plain": [
       "['甲', '乙', '丙', '丁']"
      ]
     },
     "execution_count": 5,
     "metadata": {},
     "output_type": "execute_result"
    }
   ],
   "source": [
    "list(\"甲乙丙丁\")"
   ]
  },
  {
   "cell_type": "code",
   "execution_count": 6,
   "id": "59b4ef23",
   "metadata": {},
   "outputs": [],
   "source": [
    "df1 = pd.DataFrame(mydata, columns=list(\"ABC\"))"
   ]
  },
  {
   "cell_type": "code",
   "execution_count": 7,
   "id": "24e4c714",
   "metadata": {},
   "outputs": [
    {
     "data": {
      "text/html": [
       "<div>\n",
       "<style scoped>\n",
       "    .dataframe tbody tr th:only-of-type {\n",
       "        vertical-align: middle;\n",
       "    }\n",
       "\n",
       "    .dataframe tbody tr th {\n",
       "        vertical-align: top;\n",
       "    }\n",
       "\n",
       "    .dataframe thead th {\n",
       "        text-align: right;\n",
       "    }\n",
       "</style>\n",
       "<table border=\"1\" class=\"dataframe\">\n",
       "  <thead>\n",
       "    <tr style=\"text-align: right;\">\n",
       "      <th></th>\n",
       "      <th>A</th>\n",
       "      <th>B</th>\n",
       "      <th>C</th>\n",
       "    </tr>\n",
       "  </thead>\n",
       "  <tbody>\n",
       "    <tr>\n",
       "      <th>0</th>\n",
       "      <td>-1.105807</td>\n",
       "      <td>0.045964</td>\n",
       "      <td>-1.063985</td>\n",
       "    </tr>\n",
       "    <tr>\n",
       "      <th>1</th>\n",
       "      <td>0.154437</td>\n",
       "      <td>1.096655</td>\n",
       "      <td>-0.048921</td>\n",
       "    </tr>\n",
       "    <tr>\n",
       "      <th>2</th>\n",
       "      <td>-0.221381</td>\n",
       "      <td>0.968094</td>\n",
       "      <td>0.894726</td>\n",
       "    </tr>\n",
       "    <tr>\n",
       "      <th>3</th>\n",
       "      <td>-0.889489</td>\n",
       "      <td>0.099232</td>\n",
       "      <td>-0.127170</td>\n",
       "    </tr>\n",
       "  </tbody>\n",
       "</table>\n",
       "</div>"
      ],
      "text/plain": [
       "          A         B         C\n",
       "0 -1.105807  0.045964 -1.063985\n",
       "1  0.154437  1.096655 -0.048921\n",
       "2 -0.221381  0.968094  0.894726\n",
       "3 -0.889489  0.099232 -0.127170"
      ]
     },
     "execution_count": 7,
     "metadata": {},
     "output_type": "execute_result"
    }
   ],
   "source": [
    "df1"
   ]
  },
  {
   "cell_type": "code",
   "execution_count": 8,
   "id": "1da124f9",
   "metadata": {},
   "outputs": [],
   "source": [
    "df2 = pd.DataFrame(np.random.randn(3,3),columns=list(\"ABC\"))"
   ]
  },
  {
   "cell_type": "code",
   "execution_count": 9,
   "id": "cb4bca08",
   "metadata": {},
   "outputs": [
    {
     "data": {
      "text/html": [
       "<div>\n",
       "<style scoped>\n",
       "    .dataframe tbody tr th:only-of-type {\n",
       "        vertical-align: middle;\n",
       "    }\n",
       "\n",
       "    .dataframe tbody tr th {\n",
       "        vertical-align: top;\n",
       "    }\n",
       "\n",
       "    .dataframe thead th {\n",
       "        text-align: right;\n",
       "    }\n",
       "</style>\n",
       "<table border=\"1\" class=\"dataframe\">\n",
       "  <thead>\n",
       "    <tr style=\"text-align: right;\">\n",
       "      <th></th>\n",
       "      <th>A</th>\n",
       "      <th>B</th>\n",
       "      <th>C</th>\n",
       "    </tr>\n",
       "  </thead>\n",
       "  <tbody>\n",
       "    <tr>\n",
       "      <th>0</th>\n",
       "      <td>0.943794</td>\n",
       "      <td>-0.979292</td>\n",
       "      <td>-0.026356</td>\n",
       "    </tr>\n",
       "    <tr>\n",
       "      <th>1</th>\n",
       "      <td>0.301771</td>\n",
       "      <td>0.846601</td>\n",
       "      <td>-0.306136</td>\n",
       "    </tr>\n",
       "    <tr>\n",
       "      <th>2</th>\n",
       "      <td>0.671246</td>\n",
       "      <td>0.574978</td>\n",
       "      <td>1.333033</td>\n",
       "    </tr>\n",
       "  </tbody>\n",
       "</table>\n",
       "</div>"
      ],
      "text/plain": [
       "          A         B         C\n",
       "0  0.943794 -0.979292 -0.026356\n",
       "1  0.301771  0.846601 -0.306136\n",
       "2  0.671246  0.574978  1.333033"
      ]
     },
     "execution_count": 9,
     "metadata": {},
     "output_type": "execute_result"
    }
   ],
   "source": [
    "df2"
   ]
  },
  {
   "cell_type": "code",
   "execution_count": 11,
   "id": "30f24151",
   "metadata": {},
   "outputs": [],
   "source": [
    "df3 = pd.concat([df1,df2], axis=0)"
   ]
  },
  {
   "cell_type": "code",
   "execution_count": 12,
   "id": "24686084",
   "metadata": {},
   "outputs": [
    {
     "data": {
      "text/html": [
       "<div>\n",
       "<style scoped>\n",
       "    .dataframe tbody tr th:only-of-type {\n",
       "        vertical-align: middle;\n",
       "    }\n",
       "\n",
       "    .dataframe tbody tr th {\n",
       "        vertical-align: top;\n",
       "    }\n",
       "\n",
       "    .dataframe thead th {\n",
       "        text-align: right;\n",
       "    }\n",
       "</style>\n",
       "<table border=\"1\" class=\"dataframe\">\n",
       "  <thead>\n",
       "    <tr style=\"text-align: right;\">\n",
       "      <th></th>\n",
       "      <th>A</th>\n",
       "      <th>B</th>\n",
       "      <th>C</th>\n",
       "    </tr>\n",
       "  </thead>\n",
       "  <tbody>\n",
       "    <tr>\n",
       "      <th>0</th>\n",
       "      <td>-1.105807</td>\n",
       "      <td>0.045964</td>\n",
       "      <td>-1.063985</td>\n",
       "    </tr>\n",
       "    <tr>\n",
       "      <th>1</th>\n",
       "      <td>0.154437</td>\n",
       "      <td>1.096655</td>\n",
       "      <td>-0.048921</td>\n",
       "    </tr>\n",
       "    <tr>\n",
       "      <th>2</th>\n",
       "      <td>-0.221381</td>\n",
       "      <td>0.968094</td>\n",
       "      <td>0.894726</td>\n",
       "    </tr>\n",
       "    <tr>\n",
       "      <th>3</th>\n",
       "      <td>-0.889489</td>\n",
       "      <td>0.099232</td>\n",
       "      <td>-0.127170</td>\n",
       "    </tr>\n",
       "    <tr>\n",
       "      <th>0</th>\n",
       "      <td>0.943794</td>\n",
       "      <td>-0.979292</td>\n",
       "      <td>-0.026356</td>\n",
       "    </tr>\n",
       "    <tr>\n",
       "      <th>1</th>\n",
       "      <td>0.301771</td>\n",
       "      <td>0.846601</td>\n",
       "      <td>-0.306136</td>\n",
       "    </tr>\n",
       "    <tr>\n",
       "      <th>2</th>\n",
       "      <td>0.671246</td>\n",
       "      <td>0.574978</td>\n",
       "      <td>1.333033</td>\n",
       "    </tr>\n",
       "  </tbody>\n",
       "</table>\n",
       "</div>"
      ],
      "text/plain": [
       "          A         B         C\n",
       "0 -1.105807  0.045964 -1.063985\n",
       "1  0.154437  1.096655 -0.048921\n",
       "2 -0.221381  0.968094  0.894726\n",
       "3 -0.889489  0.099232 -0.127170\n",
       "0  0.943794 -0.979292 -0.026356\n",
       "1  0.301771  0.846601 -0.306136\n",
       "2  0.671246  0.574978  1.333033"
      ]
     },
     "execution_count": 12,
     "metadata": {},
     "output_type": "execute_result"
    }
   ],
   "source": [
    "df3"
   ]
  },
  {
   "cell_type": "code",
   "execution_count": 13,
   "id": "38049fb9",
   "metadata": {},
   "outputs": [],
   "source": [
    "df3.index = range(7)"
   ]
  },
  {
   "cell_type": "code",
   "execution_count": 14,
   "id": "0968cc6f",
   "metadata": {},
   "outputs": [
    {
     "data": {
      "text/html": [
       "<div>\n",
       "<style scoped>\n",
       "    .dataframe tbody tr th:only-of-type {\n",
       "        vertical-align: middle;\n",
       "    }\n",
       "\n",
       "    .dataframe tbody tr th {\n",
       "        vertical-align: top;\n",
       "    }\n",
       "\n",
       "    .dataframe thead th {\n",
       "        text-align: right;\n",
       "    }\n",
       "</style>\n",
       "<table border=\"1\" class=\"dataframe\">\n",
       "  <thead>\n",
       "    <tr style=\"text-align: right;\">\n",
       "      <th></th>\n",
       "      <th>A</th>\n",
       "      <th>B</th>\n",
       "      <th>C</th>\n",
       "    </tr>\n",
       "  </thead>\n",
       "  <tbody>\n",
       "    <tr>\n",
       "      <th>0</th>\n",
       "      <td>-1.105807</td>\n",
       "      <td>0.045964</td>\n",
       "      <td>-1.063985</td>\n",
       "    </tr>\n",
       "    <tr>\n",
       "      <th>1</th>\n",
       "      <td>0.154437</td>\n",
       "      <td>1.096655</td>\n",
       "      <td>-0.048921</td>\n",
       "    </tr>\n",
       "    <tr>\n",
       "      <th>2</th>\n",
       "      <td>-0.221381</td>\n",
       "      <td>0.968094</td>\n",
       "      <td>0.894726</td>\n",
       "    </tr>\n",
       "    <tr>\n",
       "      <th>3</th>\n",
       "      <td>-0.889489</td>\n",
       "      <td>0.099232</td>\n",
       "      <td>-0.127170</td>\n",
       "    </tr>\n",
       "    <tr>\n",
       "      <th>4</th>\n",
       "      <td>0.943794</td>\n",
       "      <td>-0.979292</td>\n",
       "      <td>-0.026356</td>\n",
       "    </tr>\n",
       "    <tr>\n",
       "      <th>5</th>\n",
       "      <td>0.301771</td>\n",
       "      <td>0.846601</td>\n",
       "      <td>-0.306136</td>\n",
       "    </tr>\n",
       "    <tr>\n",
       "      <th>6</th>\n",
       "      <td>0.671246</td>\n",
       "      <td>0.574978</td>\n",
       "      <td>1.333033</td>\n",
       "    </tr>\n",
       "  </tbody>\n",
       "</table>\n",
       "</div>"
      ],
      "text/plain": [
       "          A         B         C\n",
       "0 -1.105807  0.045964 -1.063985\n",
       "1  0.154437  1.096655 -0.048921\n",
       "2 -0.221381  0.968094  0.894726\n",
       "3 -0.889489  0.099232 -0.127170\n",
       "4  0.943794 -0.979292 -0.026356\n",
       "5  0.301771  0.846601 -0.306136\n",
       "6  0.671246  0.574978  1.333033"
      ]
     },
     "execution_count": 14,
     "metadata": {},
     "output_type": "execute_result"
    }
   ],
   "source": [
    "df3"
   ]
  },
  {
   "cell_type": "code",
   "execution_count": 15,
   "id": "0a5204cd",
   "metadata": {},
   "outputs": [],
   "source": [
    "df4 = pd.concat([df1,df2], axis=1)"
   ]
  },
  {
   "cell_type": "code",
   "execution_count": 16,
   "id": "56674da1",
   "metadata": {},
   "outputs": [
    {
     "data": {
      "text/html": [
       "<div>\n",
       "<style scoped>\n",
       "    .dataframe tbody tr th:only-of-type {\n",
       "        vertical-align: middle;\n",
       "    }\n",
       "\n",
       "    .dataframe tbody tr th {\n",
       "        vertical-align: top;\n",
       "    }\n",
       "\n",
       "    .dataframe thead th {\n",
       "        text-align: right;\n",
       "    }\n",
       "</style>\n",
       "<table border=\"1\" class=\"dataframe\">\n",
       "  <thead>\n",
       "    <tr style=\"text-align: right;\">\n",
       "      <th></th>\n",
       "      <th>A</th>\n",
       "      <th>B</th>\n",
       "      <th>C</th>\n",
       "      <th>A</th>\n",
       "      <th>B</th>\n",
       "      <th>C</th>\n",
       "    </tr>\n",
       "  </thead>\n",
       "  <tbody>\n",
       "    <tr>\n",
       "      <th>0</th>\n",
       "      <td>-1.105807</td>\n",
       "      <td>0.045964</td>\n",
       "      <td>-1.063985</td>\n",
       "      <td>0.943794</td>\n",
       "      <td>-0.979292</td>\n",
       "      <td>-0.026356</td>\n",
       "    </tr>\n",
       "    <tr>\n",
       "      <th>1</th>\n",
       "      <td>0.154437</td>\n",
       "      <td>1.096655</td>\n",
       "      <td>-0.048921</td>\n",
       "      <td>0.301771</td>\n",
       "      <td>0.846601</td>\n",
       "      <td>-0.306136</td>\n",
       "    </tr>\n",
       "    <tr>\n",
       "      <th>2</th>\n",
       "      <td>-0.221381</td>\n",
       "      <td>0.968094</td>\n",
       "      <td>0.894726</td>\n",
       "      <td>0.671246</td>\n",
       "      <td>0.574978</td>\n",
       "      <td>1.333033</td>\n",
       "    </tr>\n",
       "    <tr>\n",
       "      <th>3</th>\n",
       "      <td>-0.889489</td>\n",
       "      <td>0.099232</td>\n",
       "      <td>-0.127170</td>\n",
       "      <td>NaN</td>\n",
       "      <td>NaN</td>\n",
       "      <td>NaN</td>\n",
       "    </tr>\n",
       "  </tbody>\n",
       "</table>\n",
       "</div>"
      ],
      "text/plain": [
       "          A         B         C         A         B         C\n",
       "0 -1.105807  0.045964 -1.063985  0.943794 -0.979292 -0.026356\n",
       "1  0.154437  1.096655 -0.048921  0.301771  0.846601 -0.306136\n",
       "2 -0.221381  0.968094  0.894726  0.671246  0.574978  1.333033\n",
       "3 -0.889489  0.099232 -0.127170       NaN       NaN       NaN"
      ]
     },
     "execution_count": 16,
     "metadata": {},
     "output_type": "execute_result"
    }
   ],
   "source": [
    "df4"
   ]
  },
  {
   "cell_type": "code",
   "execution_count": null,
   "id": "ac1b28d8",
   "metadata": {},
   "outputs": [],
   "source": []
  }
 ],
 "metadata": {
  "kernelspec": {
   "display_name": "Python 3 (ipykernel)",
   "language": "python",
   "name": "python3"
  },
  "language_info": {
   "codemirror_mode": {
    "name": "ipython",
    "version": 3
   },
   "file_extension": ".py",
   "mimetype": "text/x-python",
   "name": "python",
   "nbconvert_exporter": "python",
   "pygments_lexer": "ipython3",
   "version": "3.9.7"
  }
 },
 "nbformat": 4,
 "nbformat_minor": 5
}
