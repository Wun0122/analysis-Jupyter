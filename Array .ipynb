{
 "cells": [
  {
   "cell_type": "markdown",
   "id": "caaaf57a",
   "metadata": {},
   "source": [
    "數據分析儘量不要用迴圈"
   ]
  },
  {
   "cell_type": "code",
   "execution_count": 3,
   "id": "8f9db7bb",
   "metadata": {},
   "outputs": [],
   "source": [
    "%matplotlib inline\n",
    "import numpy as np\n",
    "import matplotlib.pyplot as plt"
   ]
  },
  {
   "cell_type": "code",
   "execution_count": 4,
   "id": "8d09501f",
   "metadata": {},
   "outputs": [],
   "source": [
    "p = [1096.95, 596.95, 896.95]"
   ]
  },
  {
   "cell_type": "code",
   "execution_count": 5,
   "id": "184153f3",
   "metadata": {},
   "outputs": [],
   "source": [
    "c = 30.1"
   ]
  },
  {
   "cell_type": "code",
   "execution_count": 6,
   "id": "57eb1a6e",
   "metadata": {},
   "outputs": [],
   "source": [
    "prices = np.array(p)"
   ]
  },
  {
   "cell_type": "code",
   "execution_count": 7,
   "id": "59354b9f",
   "metadata": {},
   "outputs": [
    {
     "data": {
      "text/plain": [
       "array([1096.95,  596.95,  896.95])"
      ]
     },
     "execution_count": 7,
     "metadata": {},
     "output_type": "execute_result"
    }
   ],
   "source": [
    "prices"
   ]
  },
  {
   "cell_type": "code",
   "execution_count": 8,
   "id": "b538f3c6",
   "metadata": {},
   "outputs": [
    {
     "name": "stdout",
     "output_type": "stream",
     "text": [
      "[1096.95  596.95  896.95]\n"
     ]
    }
   ],
   "source": [
    "print(prices)"
   ]
  },
  {
   "cell_type": "code",
   "execution_count": 9,
   "id": "4d5acb78",
   "metadata": {},
   "outputs": [
    {
     "data": {
      "text/plain": [
       "array([33018.195, 17968.195, 26998.195])"
      ]
     },
     "execution_count": 9,
     "metadata": {},
     "output_type": "execute_result"
    }
   ],
   "source": [
    "prices * c"
   ]
  },
  {
   "cell_type": "code",
   "execution_count": null,
   "id": "2e0bdf69",
   "metadata": {},
   "outputs": [],
   "source": []
  }
 ],
 "metadata": {
  "kernelspec": {
   "display_name": "Python 3 (ipykernel)",
   "language": "python",
   "name": "python3"
  },
  "language_info": {
   "codemirror_mode": {
    "name": "ipython",
    "version": 3
   },
   "file_extension": ".py",
   "mimetype": "text/x-python",
   "name": "python",
   "nbconvert_exporter": "python",
   "pygments_lexer": "ipython3",
   "version": "3.9.7"
  }
 },
 "nbformat": 4,
 "nbformat_minor": 5
}
