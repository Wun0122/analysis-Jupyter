{
 "cells": [
  {
   "cell_type": "markdown",
   "id": "664e7da6",
   "metadata": {},
   "source": [
    "## Hello, World!"
   ]
  },
  {
   "cell_type": "code",
   "execution_count": 1,
   "id": "7ffe2a6e",
   "metadata": {},
   "outputs": [
    {
     "name": "stdout",
     "output_type": "stream",
     "text": [
      "Hello, world!\n"
     ]
    }
   ],
   "source": [
    "print(\"Hello, world!\")"
   ]
  },
  {
   "cell_type": "code",
   "execution_count": 2,
   "id": "7b9208b0",
   "metadata": {},
   "outputs": [
    {
     "name": "stdout",
     "output_type": "stream",
     "text": [
      "name\n"
     ]
    }
   ],
   "source": [
    "name = 'wun'\n",
    "print(\"name\")"
   ]
  },
  {
   "cell_type": "markdown",
   "id": "ee77edbe",
   "metadata": {},
   "source": [
    "## 字串相加"
   ]
  },
  {
   "cell_type": "code",
   "execution_count": 3,
   "id": "beae2cfe",
   "metadata": {},
   "outputs": [
    {
     "data": {
      "text/plain": [
       "'wun'"
      ]
     },
     "execution_count": 3,
     "metadata": {},
     "output_type": "execute_result"
    }
   ],
   "source": [
    "name"
   ]
  },
  {
   "cell_type": "code",
   "execution_count": 4,
   "id": "28935175",
   "metadata": {},
   "outputs": [
    {
     "data": {
      "text/plain": [
       "'Hello, wun!'"
      ]
     },
     "execution_count": 4,
     "metadata": {},
     "output_type": "execute_result"
    }
   ],
   "source": [
    "\"Hello, \" + name + \"!\""
   ]
  },
  {
   "cell_type": "code",
   "execution_count": 5,
   "id": "6b44a4d5",
   "metadata": {},
   "outputs": [
    {
     "name": "stdout",
     "output_type": "stream",
     "text": [
      "Hello, wenn!\n"
     ]
    }
   ],
   "source": [
    "name = 'wenn'\n",
    "print(\"Hello, \" + name + \"!\")"
   ]
  },
  {
   "cell_type": "code",
   "execution_count": 12,
   "id": "53386aba",
   "metadata": {},
   "outputs": [],
   "source": [
    "hi = \"Hi! \"\n",
    "name = 'wun'"
   ]
  },
  {
   "cell_type": "code",
   "execution_count": 13,
   "id": "f5065119",
   "metadata": {},
   "outputs": [
    {
     "data": {
      "text/plain": [
       "'Hi! wun'"
      ]
     },
     "execution_count": 13,
     "metadata": {},
     "output_type": "execute_result"
    }
   ],
   "source": [
    "hi + name"
   ]
  },
  {
   "cell_type": "markdown",
   "id": "b51809fc",
   "metadata": {},
   "source": [
    "## k倍的字串 "
   ]
  },
  {
   "cell_type": "code",
   "execution_count": 14,
   "id": "4d96ed23",
   "metadata": {},
   "outputs": [],
   "source": [
    "emoji = \"🙂\""
   ]
  },
  {
   "cell_type": "code",
   "execution_count": 15,
   "id": "d0959595",
   "metadata": {},
   "outputs": [
    {
     "data": {
      "text/plain": [
       "'🙂🙂🙂🙂🙂'"
      ]
     },
     "execution_count": 15,
     "metadata": {},
     "output_type": "execute_result"
    }
   ],
   "source": [
    "5*emoji"
   ]
  },
  {
   "cell_type": "markdown",
   "id": "e678b34f",
   "metadata": {},
   "source": [
    "## 神奇的三引號"
   ]
  },
  {
   "cell_type": "code",
   "execution_count": 16,
   "id": "f2a23265",
   "metadata": {},
   "outputs": [],
   "source": [
    "message = '''看一次\n",
    "中間換行\n",
    "像這樣\n",
    "'''"
   ]
  },
  {
   "cell_type": "code",
   "execution_count": 17,
   "id": "5039ceda",
   "metadata": {},
   "outputs": [
    {
     "data": {
      "text/plain": [
       "'看一次\\n中間換行\\n像這樣\\n'"
      ]
     },
     "execution_count": 17,
     "metadata": {},
     "output_type": "execute_result"
    }
   ],
   "source": [
    "message"
   ]
  },
  {
   "cell_type": "code",
   "execution_count": null,
   "id": "1e1b2642",
   "metadata": {},
   "outputs": [],
   "source": []
  }
 ],
 "metadata": {
  "kernelspec": {
   "display_name": "Python 3 (ipykernel)",
   "language": "python",
   "name": "python3"
  },
  "language_info": {
   "codemirror_mode": {
    "name": "ipython",
    "version": 3
   },
   "file_extension": ".py",
   "mimetype": "text/x-python",
   "name": "python",
   "nbconvert_exporter": "python",
   "pygments_lexer": "ipython3",
   "version": "3.9.7"
  }
 },
 "nbformat": 4,
 "nbformat_minor": 5
}
