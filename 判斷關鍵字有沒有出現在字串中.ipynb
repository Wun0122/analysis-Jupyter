{
 "cells": [
  {
   "cell_type": "markdown",
   "id": "22479790",
   "metadata": {},
   "source": [
    "## 字串"
   ]
  },
  {
   "cell_type": "code",
   "execution_count": 1,
   "id": "393f785b",
   "metadata": {},
   "outputs": [],
   "source": [
    "keyword = \"悲傷\""
   ]
  },
  {
   "cell_type": "code",
   "execution_count": 2,
   "id": "34ec9d36",
   "metadata": {},
   "outputs": [],
   "source": [
    "message = \"我今天覺得很悲傷\""
   ]
  },
  {
   "cell_type": "code",
   "execution_count": 3,
   "id": "28a1fff8",
   "metadata": {},
   "outputs": [
    {
     "data": {
      "text/plain": [
       "True"
      ]
     },
     "execution_count": 3,
     "metadata": {},
     "output_type": "execute_result"
    }
   ],
   "source": [
    "keyword in message "
   ]
  },
  {
   "cell_type": "code",
   "execution_count": 4,
   "id": "efaa27b6",
   "metadata": {},
   "outputs": [],
   "source": [
    "message = \"我今天超開心\""
   ]
  },
  {
   "cell_type": "code",
   "execution_count": 5,
   "id": "91772133",
   "metadata": {},
   "outputs": [
    {
     "data": {
      "text/plain": [
       "False"
      ]
     },
     "execution_count": 5,
     "metadata": {},
     "output_type": "execute_result"
    }
   ],
   "source": [
    "keyword in message"
   ]
  },
  {
   "cell_type": "markdown",
   "id": "88d55ae3",
   "metadata": {},
   "source": [
    "## 串列"
   ]
  },
  {
   "cell_type": "code",
   "execution_count": 6,
   "id": "f7d81a11",
   "metadata": {},
   "outputs": [],
   "source": [
    "L = [34, 23, 12, 88, 95, 74]"
   ]
  },
  {
   "cell_type": "code",
   "execution_count": 7,
   "id": "efa5de22",
   "metadata": {},
   "outputs": [
    {
     "data": {
      "text/plain": [
       "False"
      ]
     },
     "execution_count": 7,
     "metadata": {},
     "output_type": "execute_result"
    }
   ],
   "source": [
    "29 in L"
   ]
  },
  {
   "cell_type": "code",
   "execution_count": 8,
   "id": "81d1ce9b",
   "metadata": {},
   "outputs": [
    {
     "data": {
      "text/plain": [
       "True"
      ]
     },
     "execution_count": 8,
     "metadata": {},
     "output_type": "execute_result"
    }
   ],
   "source": [
    "88 in L"
   ]
  },
  {
   "cell_type": "code",
   "execution_count": null,
   "id": "7fc4a0b8",
   "metadata": {},
   "outputs": [],
   "source": []
  }
 ],
 "metadata": {
  "kernelspec": {
   "display_name": "Python 3 (ipykernel)",
   "language": "python",
   "name": "python3"
  },
  "language_info": {
   "codemirror_mode": {
    "name": "ipython",
    "version": 3
   },
   "file_extension": ".py",
   "mimetype": "text/x-python",
   "name": "python",
   "nbconvert_exporter": "python",
   "pygments_lexer": "ipython3",
   "version": "3.9.7"
  }
 },
 "nbformat": 4,
 "nbformat_minor": 5
}
