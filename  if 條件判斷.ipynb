{
 "cells": [
  {
   "cell_type": "code",
   "execution_count": 2,
   "id": "c6a44918",
   "metadata": {},
   "outputs": [
    {
     "name": "stdout",
     "output_type": "stream",
     "text": [
      "OK\n"
     ]
    }
   ],
   "source": [
    "a = 80\n",
    "if a > 7:\n",
    "    print(\"OK\")"
   ]
  },
  {
   "cell_type": "code",
   "execution_count": 3,
   "id": "88e6451e",
   "metadata": {},
   "outputs": [
    {
     "name": "stdout",
     "output_type": "stream",
     "text": [
      ">> 我今天很悲傷\n",
      "拍拍\n"
     ]
    }
   ],
   "source": [
    "message = input(\">> \")\n",
    "if (\"悲傷\" in message):\n",
    "    print(\"拍拍\")"
   ]
  },
  {
   "cell_type": "code",
   "execution_count": 4,
   "id": "6ddef36d",
   "metadata": {},
   "outputs": [
    {
     "name": "stdout",
     "output_type": "stream",
     "text": [
      ">> 我今天很開心\n",
      "好！\n"
     ]
    }
   ],
   "source": [
    "message = input(\">> \")\n",
    "if (\"悲傷\" in message):\n",
    "    print(\"拍拍\")\n",
    "else:\n",
    "    print(\"好！\")"
   ]
  },
  {
   "cell_type": "code",
   "execution_count": 6,
   "id": "330505cc",
   "metadata": {},
   "outputs": [
    {
     "name": "stdout",
     "output_type": "stream",
     "text": [
      ">> 今天天氣好好\n",
      "好的\n"
     ]
    }
   ],
   "source": [
    "message = input(\">> \")\n",
    "if (\"悲傷\" in message):\n",
    "    print(\"拍拍\")\n",
    "elif(\"開心\" in message):\n",
    "    print(\"讚喔！\")\n",
    "else:\n",
    "    print(\"好的\")"
   ]
  },
  {
   "cell_type": "code",
   "execution_count": null,
   "id": "6fe04d3f",
   "metadata": {},
   "outputs": [],
   "source": []
  }
 ],
 "metadata": {
  "kernelspec": {
   "display_name": "Python 3 (ipykernel)",
   "language": "python",
   "name": "python3"
  },
  "language_info": {
   "codemirror_mode": {
    "name": "ipython",
    "version": 3
   },
   "file_extension": ".py",
   "mimetype": "text/x-python",
   "name": "python",
   "nbconvert_exporter": "python",
   "pygments_lexer": "ipython3",
   "version": "3.9.7"
  }
 },
 "nbformat": 4,
 "nbformat_minor": 5
}
