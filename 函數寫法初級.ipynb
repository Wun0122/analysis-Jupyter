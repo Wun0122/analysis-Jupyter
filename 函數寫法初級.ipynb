{
 "cells": [
  {
   "cell_type": "markdown",
   "id": "5ec0b072",
   "metadata": {},
   "source": [
    "## 函數基本寫法"
   ]
  },
  {
   "cell_type": "code",
   "execution_count": 1,
   "id": "f4486c46",
   "metadata": {},
   "outputs": [],
   "source": [
    "def square(x):\n",
    "    return x**2"
   ]
  },
  {
   "cell_type": "code",
   "execution_count": 2,
   "id": "6c31aede",
   "metadata": {},
   "outputs": [
    {
     "data": {
      "text/plain": [
       "9"
      ]
     },
     "execution_count": 2,
     "metadata": {},
     "output_type": "execute_result"
    }
   ],
   "source": [
    "square(3)"
   ]
  },
  {
   "cell_type": "code",
   "execution_count": 3,
   "id": "2addd66b",
   "metadata": {},
   "outputs": [
    {
     "data": {
      "text/plain": [
       "100"
      ]
     },
     "execution_count": 3,
     "metadata": {},
     "output_type": "execute_result"
    }
   ],
   "source": [
    "square(10)"
   ]
  },
  {
   "cell_type": "markdown",
   "id": "547cff85",
   "metadata": {},
   "source": [
    "## 看來一樣的函數"
   ]
  },
  {
   "cell_type": "code",
   "execution_count": 4,
   "id": "aa0385bf",
   "metadata": {},
   "outputs": [],
   "source": [
    "def 平方(甲):\n",
    "    print(甲**2)"
   ]
  },
  {
   "cell_type": "code",
   "execution_count": 5,
   "id": "1d569126",
   "metadata": {},
   "outputs": [
    {
     "name": "stdout",
     "output_type": "stream",
     "text": [
      "9\n"
     ]
    }
   ],
   "source": [
    "平方(3)"
   ]
  },
  {
   "cell_type": "code",
   "execution_count": 6,
   "id": "e6cdd7a0",
   "metadata": {},
   "outputs": [
    {
     "name": "stdout",
     "output_type": "stream",
     "text": [
      "100\n"
     ]
    }
   ],
   "source": [
    "平方(10)"
   ]
  },
  {
   "cell_type": "code",
   "execution_count": 7,
   "id": "3bbf28a5",
   "metadata": {},
   "outputs": [],
   "source": [
    "a = square(87)"
   ]
  },
  {
   "cell_type": "code",
   "execution_count": 8,
   "id": "c0df78ba",
   "metadata": {},
   "outputs": [
    {
     "data": {
      "text/plain": [
       "7569"
      ]
     },
     "execution_count": 8,
     "metadata": {},
     "output_type": "execute_result"
    }
   ],
   "source": [
    "a "
   ]
  },
  {
   "cell_type": "code",
   "execution_count": 9,
   "id": "31f85666",
   "metadata": {},
   "outputs": [
    {
     "name": "stdout",
     "output_type": "stream",
     "text": [
      "7569\n"
     ]
    }
   ],
   "source": [
    "b = 平方(87)"
   ]
  },
  {
   "cell_type": "code",
   "execution_count": 10,
   "id": "53519936",
   "metadata": {},
   "outputs": [],
   "source": [
    "b"
   ]
  },
  {
   "cell_type": "code",
   "execution_count": null,
   "id": "239b553e",
   "metadata": {},
   "outputs": [],
   "source": []
  }
 ],
 "metadata": {
  "kernelspec": {
   "display_name": "Python 3 (ipykernel)",
   "language": "python",
   "name": "python3"
  },
  "language_info": {
   "codemirror_mode": {
    "name": "ipython",
    "version": 3
   },
   "file_extension": ".py",
   "mimetype": "text/x-python",
   "name": "python",
   "nbconvert_exporter": "python",
   "pygments_lexer": "ipython3",
   "version": "3.9.7"
  }
 },
 "nbformat": 4,
 "nbformat_minor": 5
}
