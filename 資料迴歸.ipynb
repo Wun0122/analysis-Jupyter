{
 "cells": [
  {
   "cell_type": "code",
   "execution_count": 1,
   "id": "f059197d",
   "metadata": {},
   "outputs": [],
   "source": [
    "%matplotlib inline\n",
    "import numpy as np\n",
    "import matplotlib.pyplot as plt"
   ]
  },
  {
   "cell_type": "markdown",
   "id": "459e9a1f",
   "metadata": {},
   "source": [
    "## 準備模擬的資料\n",
    "\n",
    "做一條直線\n",
    "\n",
    "我們來一條線,比如說\n",
    "$$f(x)=1.2x+0.8$$\n",
    "準備好個50個點"
   ]
  },
  {
   "cell_type": "code",
   "execution_count": 2,
   "id": "b63bb8d3",
   "metadata": {},
   "outputs": [],
   "source": [
    "x = np.linspace(0, 5, 50)"
   ]
  },
  {
   "cell_type": "markdown",
   "id": "cfc858b5",
   "metadata": {},
   "source": [
    "畫出圖形來"
   ]
  },
  {
   "cell_type": "code",
   "execution_count": 3,
   "id": "17c9d436",
   "metadata": {},
   "outputs": [],
   "source": [
    "y = 1.2*x + 0.8"
   ]
  },
  {
   "cell_type": "code",
   "execution_count": 4,
   "id": "2e8cdf1c",
   "metadata": {},
   "outputs": [
    {
     "data": {
      "text/plain": [
       "[<matplotlib.lines.Line2D at 0x7fefeaf4ba60>]"
      ]
     },
     "execution_count": 4,
     "metadata": {},
     "output_type": "execute_result"
    },
    {
     "data": {
      "image/png": "[encoded data removed]",
      "text/plain": [
       "<Figure size 432x288 with 1 Axes>"
      ]
     },
     "metadata": {
      "needs_background": "light"
     },
     "output_type": "display_data"
    }
   ],
   "source": [
    "plt.scatter(x, y)\n",
    "plt.plot(x, y, 'r')"
   ]
  },
  {
   "cell_type": "markdown",
   "id": "f8487c25",
   "metadata": {},
   "source": [
    "加入noise項,看起來更真實\n",
    "\n",
    "在統計上,我們就是假設\n",
    "$$f(x)+E(x)$$"
   ]
  },
  {
   "cell_type": "code",
   "execution_count": 5,
   "id": "1b524402",
   "metadata": {},
   "outputs": [],
   "source": [
    "y = 1.2*x + 0.8 +0.6*np.random.randn(50)"
   ]
  },
  {
   "cell_type": "code",
   "execution_count": 6,
   "id": "e7109ffc",
   "metadata": {},
   "outputs": [
    {
     "data": {
      "text/plain": [
       "[<matplotlib.lines.Line2D at 0x7fefeb0ec3a0>]"
      ]
     },
     "execution_count": 6,
     "metadata": {},
     "output_type": "execute_result"
    },
    {
     "data": {
      "image/png": "[encoded data removed]",
      "text/plain": [
       "<Figure size 432x288 with 1 Axes>"
      ]
     },
     "metadata": {
      "needs_background": "light"
     },
     "output_type": "display_data"
    }
   ],
   "source": [
    "plt.scatter(x,y)\n",
    "plt.plot(x, 1.2*x + 0.8, 'y')"
   ]
  },
  {
   "cell_type": "markdown",
   "id": "88e7436f",
   "metadata": {},
   "source": [
    "## 做線性回歸找出那條線\n",
    "\n",
    "做出線性回歸有很多套件,但我們這裡用sklearn裡的LinearRegression來做"
   ]
  },
  {
   "cell_type": "code",
   "execution_count": 7,
   "id": "191517cb",
   "metadata": {},
   "outputs": [
    {
     "data": {
      "text/plain": [
       "array([0.        , 0.10204082, 0.20408163, 0.30612245, 0.40816327,\n",
       "       0.51020408, 0.6122449 , 0.71428571, 0.81632653, 0.91836735,\n",
       "       1.02040816, 1.12244898, 1.2244898 , 1.32653061, 1.42857143,\n",
       "       1.53061224, 1.63265306, 1.73469388, 1.83673469, 1.93877551,\n",
       "       2.04081633, 2.14285714, 2.24489796, 2.34693878, 2.44897959,\n",
       "       2.55102041, 2.65306122, 2.75510204, 2.85714286, 2.95918367,\n",
       "       3.06122449, 3.16326531, 3.26530612, 3.36734694, 3.46938776,\n",
       "       3.57142857, 3.67346939, 3.7755102 , 3.87755102, 3.97959184,\n",
       "       4.08163265, 4.18367347, 4.28571429, 4.3877551 , 4.48979592,\n",
       "       4.59183673, 4.69387755, 4.79591837, 4.89795918, 5.        ])"
      ]
     },
     "execution_count": 7,
     "metadata": {},
     "output_type": "execute_result"
    }
   ],
   "source": [
    "x"
   ]
  },
  {
   "cell_type": "code",
   "execution_count": 8,
   "id": "730d277f",
   "metadata": {},
   "outputs": [
    {
     "data": {
      "text/plain": [
       "array([ 0.13411304, -0.19237778,  1.07406417,  1.6317333 ,  1.69987854,\n",
       "        0.49218939,  1.5241615 ,  1.18921384,  1.47079064,  1.43155573,\n",
       "        1.58118256,  2.3251378 ,  2.5187487 ,  2.58025416,  2.62072742,\n",
       "        2.62547622,  2.42095857,  2.76194458,  4.64512881,  2.8186068 ,\n",
       "        2.87510819,  4.52058097,  3.00273342,  3.71462375,  2.30071865,\n",
       "        4.61069952,  2.91339245,  5.34702224,  4.17833652,  3.78912455,\n",
       "        4.69737636,  5.08020853,  4.60954768,  3.73039988,  4.10246348,\n",
       "        5.29525734,  5.50644362,  5.67606429,  5.60922048,  6.01038347,\n",
       "        5.74451954,  5.72340012,  5.52523525,  5.80040853,  5.85500423,\n",
       "        7.75536548,  6.52974921,  6.73740667,  7.52702727,  7.47728106])"
      ]
     },
     "execution_count": 8,
     "metadata": {},
     "output_type": "execute_result"
    }
   ],
   "source": [
    "y"
   ]
  },
  {
   "cell_type": "markdown",
   "id": "40636946",
   "metadata": {},
   "source": [
    "這裡要注意我們本來的 x 是\n",
    "\n",
    "$$[x_1, x_2, \\ldots, x_{50}]$$\n",
    "\n",
    "但現在要的是\n",
    "\n",
    "$$[[x_1], [x_2], \\ldots, [x_{50}]]$$\n",
    "\n",
    "這樣的"
   ]
  },
  {
   "cell_type": "code",
   "execution_count": 9,
   "id": "8484fab8",
   "metadata": {},
   "outputs": [],
   "source": [
    "from sklearn.linear_model import LinearRegression"
   ]
  },
  {
   "cell_type": "code",
   "execution_count": 10,
   "id": "dbfa6b0c",
   "metadata": {},
   "outputs": [],
   "source": [
    "regr = LinearRegression()"
   ]
  },
  {
   "cell_type": "code",
   "execution_count": 11,
   "id": "0183e658",
   "metadata": {},
   "outputs": [],
   "source": [
    "X = x.reshape(50,1)"
   ]
  },
  {
   "cell_type": "code",
   "execution_count": 14,
   "id": "d9d988be",
   "metadata": {},
   "outputs": [
    {
     "data": {
      "text/plain": [
       "LinearRegression()"
      ]
     },
     "execution_count": 14,
     "metadata": {},
     "output_type": "execute_result"
    }
   ],
   "source": [
    "regr.fit(X, y)"
   ]
  },
  {
   "cell_type": "code",
   "execution_count": 15,
   "id": "abec115d",
   "metadata": {},
   "outputs": [],
   "source": [
    "Y = regr.predict(X)"
   ]
  },
  {
   "cell_type": "code",
   "execution_count": 18,
   "id": "dfebae7b",
   "metadata": {},
   "outputs": [
    {
     "data": {
      "text/plain": [
       "[<matplotlib.lines.Line2D at 0x7fefd8e16d60>]"
      ]
     },
     "execution_count": 18,
     "metadata": {},
     "output_type": "execute_result"
    },
    {
     "data": {
      "image/png": "[encoded data removed]",
      "text/plain": [
       "<Figure size 432x288 with 1 Axes>"
      ]
     },
     "metadata": {
      "needs_background": "light"
     },
     "output_type": "display_data"
    }
   ],
   "source": [
    "plt.scatter(x, y)\n",
    "plt.plot(x, Y, 'r')\n",
    "plt.plot(x, 1.2*x + 0.8, 'g')"
   ]
  },
  {
   "cell_type": "code",
   "execution_count": null,
   "id": "4f42ceef",
   "metadata": {},
   "outputs": [],
   "source": []
  }
 ],
 "metadata": {
  "kernelspec": {
   "display_name": "Python 3 (ipykernel)",
   "language": "python",
   "name": "python3"
  },
  "language_info": {
   "codemirror_mode": {
    "name": "ipython",
    "version": 3
   },
   "file_extension": ".py",
   "mimetype": "text/x-python",
   "name": "python",
   "nbconvert_exporter": "python",
   "pygments_lexer": "ipython3",
   "version": "3.9.7"
  }
 },
 "nbformat": 4,
 "nbformat_minor": 5
}
